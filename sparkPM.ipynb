{
 "cells": [
  {
   "cell_type": "code",
   "execution_count": null,
   "metadata": {},
   "outputs": [],
   "source": [
    "from pyspark.sql import SparkSession\n",
    "\n",
    "spark = SparkSession.\\\n",
    "        builder.\\\n",
    "        appName(\"pyspark-notebook\").\\\n",
    "        master(\"spark://spark-master:7077\").\\\n",
    "        config(\"spark.executor.memory\", \"512m\").\\\n",
    "        getOrCreate()\n",
    "sc = spark.sparkContext"
   ]
  },
  {
   "cell_type": "code",
   "execution_count": null,
   "metadata": {},
   "outputs": [],
   "source": [
    "import sys\n",
    "import subprocess\n",
    "\n",
    "def package_install(package):\n",
    "    subprocess.check_call([sys.executable, '-m', 'pip', 'install', package])\n",
    "    return True\n",
    "\n",
    "def package_uninstall(package):\n",
    "    subprocess.check_call([sys.executable, '-m', 'pip', 'uninstall', '-y', package])\n",
    "    return True\n",
    "\n",
    "def f_installer(iterator):\n",
    "    for x in iterator:\n",
    "        package_install(x)\n",
    "        \n",
    "def f_uninstaller(iterator):\n",
    "    for x in iterator:\n",
    "        package_uninstall(x)\n",
    "            \n",
    "def publish_packages(*package):\n",
    "    package = list(package)\n",
    "    packages_rdd = sc.parallelize(package)\n",
    "    install_rdd = packages_rdd.foreachPartition(f_installer)\n",
    "    return True\n",
    "\n",
    "def unpublish_packages(*package):\n",
    "    package = list(package)\n",
    "    packages_rdd = sc.parallelize(package)\n",
    "    install_rdd = packages_rdd.foreachPartition(f_uninstaller)\n",
    "    return True"
   ]
  },
  {
   "cell_type": "code",
   "execution_count": null,
   "metadata": {},
   "outputs": [],
   "source": [
    "publish_packages(\"pandas\", \"wget\", \"requests\")"
   ]
  },
  {
   "cell_type": "code",
   "execution_count": null,
   "metadata": {},
   "outputs": [],
   "source": [
    "unpublish_packages(\"pandas\", \"wget\", \"requests\")"
   ]
  },
  {
   "cell_type": "code",
   "execution_count": null,
   "metadata": {},
   "outputs": [],
   "source": []
  }
 ],
 "metadata": {
  "kernelspec": {
   "display_name": "Python 3",
   "language": "python",
   "name": "python3"
  },
  "language_info": {
   "codemirror_mode": {
    "name": "ipython",
    "version": 3
   },
   "file_extension": ".py",
   "mimetype": "text/x-python",
   "name": "python",
   "nbconvert_exporter": "python",
   "pygments_lexer": "ipython3",
   "version": "3.7.3"
  }
 },
 "nbformat": 4,
 "nbformat_minor": 4
}
